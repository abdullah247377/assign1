{
 "cells": [
  {
   "cell_type": "markdown",
   "id": "f09b8254-45c6-4c3a-966a-70c07a3b464b",
   "metadata": {},
   "source": [
    "## Programming For Business Application\n",
    "### Assignment # 1\n",
    "### Abdullah Anayat\n",
    "### L24-7377\n",
    "### Msba-B"
   ]
  },
  {
   "cell_type": "code",
   "execution_count": 25,
   "id": "3c02bde0-2a47-49a0-a012-2c65135981f2",
   "metadata": {},
   "outputs": [
    {
     "name": "stdout",
     "output_type": "stream",
     "text": [
      "Name: Abdullah Anayat\n",
      "Address: xyz Lhr Punjab\n"
     ]
    }
   ],
   "source": [
    "# 1. Display your name and address on screen using simple print command\n",
    "print(\"Name: Abdullah Anayat\\nAddress: xyz Lhr Punjab\")"
   ]
  },
  {
   "cell_type": "code",
   "execution_count": 26,
   "id": "17d5a0e5-2c85-49f0-ad16-f0b2fa5d4a21",
   "metadata": {},
   "outputs": [
    {
     "name": "stdout",
     "output_type": "stream",
     "text": [
      "The cat said meow.\n",
      "Python's the best!\n"
     ]
    }
   ],
   "source": [
    "# 2. Write a statement that displays the following text:\n",
    "# The cat said \"meow.\"\n",
    "# Python's the best!\n",
    "print(\"The cat said meow.\\nPython's the best!\")"
   ]
  },
  {
   "cell_type": "code",
   "execution_count": 27,
   "id": "4b841220-4dd7-4098-b635-3a02275858d6",
   "metadata": {},
   "outputs": [
    {
     "name": "stdout",
     "output_type": "stream",
     "text": [
      "68`F 20`C\n"
     ]
    }
   ],
   "source": [
    "# 3. Assign 68 to Fahrenheit and 20 to Celsius and print both temperature values.\n",
    "temp1= \"68`F\"\n",
    "temp2= \"20`C\"\n",
    "print(temp1,temp2)"
   ]
  },
  {
   "cell_type": "code",
   "execution_count": 28,
   "id": "c512628e-c225-4f4b-ac3b-8779c9dbd2c9",
   "metadata": {},
   "outputs": [
    {
     "data": {
      "text/plain": [
       "3.0"
      ]
     },
     "execution_count": 28,
     "metadata": {},
     "output_type": "execute_result"
    }
   ],
   "source": [
    "# 4. Change the data type of any value from integer to floa.\n",
    "float(3)"
   ]
  },
  {
   "cell_type": "code",
   "execution_count": 29,
   "id": "5544f409-6981-48a4-9269-b5df41b0aa9c",
   "metadata": {},
   "outputs": [
    {
     "name": "stdin",
     "output_type": "stream",
     "text": [
      "your first name: abdullah\n",
      "your last name: anayat\n"
     ]
    },
    {
     "name": "stdout",
     "output_type": "stream",
     "text": [
      "abdullahanayat\n"
     ]
    }
   ],
   "source": [
    "# 5. Write a program that first prompts user to input their first and last name and then display\n",
    "# full name using string concatenation.\n",
    "N1= input(\"your first name:\")\n",
    "N2= input(\"your last name:\")\n",
    "print(N1+N2)"
   ]
  },
  {
   "cell_type": "code",
   "execution_count": 30,
   "id": "f878b3bf-d8c7-4742-9e21-288bfa4f2099",
   "metadata": {},
   "outputs": [
    {
     "name": "stdin",
     "output_type": "stream",
     "text": [
      "marks1: 40\n",
      "marks2: 48\n",
      "marks3: 50\n"
     ]
    },
    {
     "name": "stdout",
     "output_type": "stream",
     "text": [
      "46.0\n"
     ]
    }
   ],
   "source": [
    "# 6. Write a program that prompts the user to enter the marks for three different subjects and\n",
    "# then calculate the average of the student with 2 decimal points.\n",
    "sub1= int(input(\"marks1:\"))\n",
    "sub2= int(input(\"marks2:\"))\n",
    "sub3= int(input(\"marks3:\"))\n",
    "average= float(sub1+sub2+sub3)/3\n",
    "print(average)\n"
   ]
  },
  {
   "cell_type": "code",
   "execution_count": 31,
   "id": "efad363c-74b0-4cd5-9510-a7a83a022faa",
   "metadata": {},
   "outputs": [
    {
     "name": "stdout",
     "output_type": "stream",
     "text": [
      "4 1\n"
     ]
    }
   ],
   "source": [
    "# 7. Write the results for the following statements:\n",
    "# result = 9 // 2\n",
    "# result = 9 % 2\n",
    "\n",
    "print(9//2 , 9%2)\n"
   ]
  },
  {
   "cell_type": "code",
   "execution_count": 32,
   "id": "c53bb81a-c641-4721-b0c1-0f780e1bb20e",
   "metadata": {},
   "outputs": [
    {
     "name": "stdout",
     "output_type": "stream",
     "text": [
      "The path for the file is: C:\\temp\\data\n",
      "Mon\tTue\tWed\n",
      "Thur\tFri\tSat\n"
     ]
    }
   ],
   "source": [
    "# 8. Display the following print statement using escape characters\n",
    "# 8a) The path for the file is:\n",
    "# C:\\temp\\data.\n",
    "# 8]b) Mon Tue Wed\n",
    "# Thur Fri Sat\n",
    "print(\"The path for the file is: C:\\\\temp\\\\data\")\n",
    "print(\"Mon\\tTue\\tWed\\nThur\\tFri\\tSat\")"
   ]
  },
  {
   "cell_type": "code",
   "execution_count": 33,
   "id": "4d478867-a19f-45a8-bfe9-043db1b632be",
   "metadata": {},
   "outputs": [
    {
     "name": "stdout",
     "output_type": "stream",
     "text": [
      "name: abdullah anayat\n",
      "address: lahore punjab zip: 012345\n",
      "colg maj: finance\n",
      "tel no: 0321-1234567\n"
     ]
    }
   ],
   "source": [
    "# 9. Write a program that displays the following information using print command:\n",
    "# • Your name\n",
    "# • Your address, with city, state, and ZIP\n",
    "# • Your telephone number\n",
    "# • Your college major\n",
    "info= [\"name: abdullah anayat\",\"address: lahore punjab zip: 012345\",\"colg maj: finance\",\"tel no: 0321-1234567\"]\n",
    "for i in info:\n",
    " print(i)"
   ]
  },
  {
   "cell_type": "code",
   "execution_count": 56,
   "id": "ddbb860b-8ab7-423d-9032-60388efa5064",
   "metadata": {},
   "outputs": [
    {
     "name": "stdin",
     "output_type": "stream",
     "text": [
      "projected sales: 500\n"
     ]
    },
    {
     "name": "stdout",
     "output_type": "stream",
     "text": [
      "profit is 115.0\n"
     ]
    }
   ],
   "source": [
    "# 10. A company has determined that its annual profit is typically 23 percent of total sales.\n",
    "# Write a program that asks the user to enter the projected amount of total sales, then\n",
    "# displays the profit that will be made from that amount.\n",
    "# Hint: Use the value 0.23 to represent 23 percent.\n",
    "annual_profit = 0.23\n",
    "projected_sales = int(input(\"projected sales:\"))\n",
    "m = 0.23*projected_sales\n",
    "print(\"profit is\",m)"
   ]
  },
  {
   "cell_type": "code",
   "execution_count": 35,
   "id": "1a67b317-1db5-4a86-9ec4-49a8e713c52f",
   "metadata": {},
   "outputs": [
    {
     "name": "stdin",
     "output_type": "stream",
     "text": [
      " enter total square feet: 456784\n"
     ]
    },
    {
     "name": "stdout",
     "output_type": "stream",
     "text": [
      "land in acres is 10.48631772268136\n"
     ]
    }
   ],
   "source": [
    "# 11. One acre of land is equivalent to 43,560 square feet. Write a program that asks the user to\n",
    "# enter the total square feet of land and calculates the number of acres of land.\n",
    "# Hint: Divide the amount entered by 43,560 to get the number of acres.\n",
    "acre= 43560 #square feet\n",
    "area= int(input(\" enter total square feet:\"))\n",
    "print(\"land in acres is\",area/acre)"
   ]
  },
  {
   "cell_type": "code",
   "execution_count": 36,
   "id": "edc38911-ebe0-42f2-8dbc-3c036520b0d0",
   "metadata": {},
   "outputs": [
    {
     "name": "stdin",
     "output_type": "stream",
     "text": [
      "cake price: 200\n",
      "egg price: 20\n",
      "coke price: 100\n",
      "oil price: 450\n",
      "cigar price: 100\n"
     ]
    },
    {
     "name": "stdout",
     "output_type": "stream",
     "text": [
      "subtotal: 870 \n",
      "salestax: 609.0 \n",
      "total: 1479.0\n"
     ]
    }
   ],
   "source": [
    "# 12. A customer in a store is purchasing five items. Write a program that asks for the price of\n",
    "# each item, then displays the subtotal of the sale, the amount of sales tax, and the total.\n",
    "# Assume the sales tax is 7 percent.\n",
    "items = [\n",
    "    int(input(\"cake price:\")),\n",
    "    int(input(\"egg price:\")),\n",
    "    int(input(\"coke price:\")),\n",
    "    int(input(\"oil price:\")),\n",
    "    int(input(\"cigar price:\"))\n",
    "]\n",
    "subtotal= sum(items)\n",
    "salestax= 0.7*subtotal\n",
    "total= subtotal + salestax\n",
    "print(\"subtotal:\",subtotal ,\"\\nsalestax:\",salestax ,\"\\ntotal:\",total)"
   ]
  },
  {
   "cell_type": "code",
   "execution_count": 37,
   "id": "8a2dfcaa-8291-4dc5-b88c-8ca2e3525b50",
   "metadata": {},
   "outputs": [
    {
     "name": "stdout",
     "output_type": "stream",
     "text": [
      "in 6 hours car will travel 420mph \n",
      "in 10 hours car will travel 700mph \n",
      "in 15 hours car will travel 1050mph\n"
     ]
    }
   ],
   "source": [
    "# 13. Assuming there are no accidents or delays, the distance that a car travels down the inter-\n",
    "# state can be calculated with the following formula:\n",
    "# Distance = Speed * Time\n",
    "# A car is traveling at 70 miles per hour. Write a program that displays the following:\n",
    "# 13(a) The distance the car will travel in 6 hours\n",
    "# 13(b) The distance the car will travel in 10 hours\n",
    "# 13(c ) The distance the car will travel in 15 hours\n",
    "speed= 70 #mph\n",
    "dista= speed*6\n",
    "distb= speed*10\n",
    "distc= speed*15\n",
    "print(f'in 6 hours car will travel {dista}mph \\nin 10 hours car will travel {distb}mph \\nin 15 hours car will travel {distc}mph')\n",
    "\n"
   ]
  },
  {
   "cell_type": "code",
   "execution_count": 38,
   "id": "e2be1106-91cd-412c-990d-db400ec6dc0e",
   "metadata": {},
   "outputs": [
    {
     "name": "stdin",
     "output_type": "stream",
     "text": [
      "purchase amount: 400\n"
     ]
    },
    {
     "name": "stdout",
     "output_type": "stream",
     "text": [
      " purchase amount: 400\n",
      " county sales tax: 10.0\n",
      " state sale tax: 20.0\n",
      " total tax: 30.0\n",
      " total sale: 430.0\n"
     ]
    }
   ],
   "source": [
    "# 14. Write a program that will ask the user to enter the amount of a purchase. The program\n",
    "# should then compute the state and county sales tax. Assume the state sales tax is 5\n",
    "# percent and the county sales tax is 2.5 percent. The program should display the amount of\n",
    "# the purchase, the state sales tax, the county sales tax, the total sales tax, and the total of\n",
    "# the sale (which is the sum of the amount of purchase plus the total sales tax).\n",
    "# Hint: Use the value 0.025 to represent 2.5 percent, and 0.05 to represent 5 percent.\n",
    "p= int(input(\"purchase amount:\"))\n",
    "cst= 0.025*p\n",
    "sst= 0.05*p\n",
    "tt= cst+sst\n",
    "ts= p+tt\n",
    "print(f\" purchase amount: {p}\\n county sales tax: {cst}\\n state sale tax: {sst}\\n total tax: {tt}\\n total sale: {ts}\")"
   ]
  },
  {
   "cell_type": "code",
   "execution_count": 39,
   "id": "f1cdf408-a6fc-4123-a01e-a6611240b863",
   "metadata": {},
   "outputs": [
    {
     "name": "stdin",
     "output_type": "stream",
     "text": [
      "enter yearly sales: 10000\n"
     ]
    },
    {
     "name": "stdout",
     "output_type": "stream",
     "text": [
      "monthly sales are: 833.33\n"
     ]
    }
   ],
   "source": [
    "# 15. Write a program that prompts the user to enter yearly sales and then displays the monthly\n",
    "# sales with two decimal points.\n",
    "ys=int(input(\"enter yearly sales:\"))\n",
    "print(f\"monthly sales are: {round(ys/12,2)}\")"
   ]
  },
  {
   "cell_type": "code",
   "execution_count": null,
   "id": "3dee7c6a-0d36-4e0e-8e55-febd19bb8d60",
   "metadata": {},
   "outputs": [],
   "source": []
  }
 ],
 "metadata": {
  "kernelspec": {
   "display_name": "Python 3 (ipykernel)",
   "language": "python",
   "name": "python3"
  },
  "language_info": {
   "codemirror_mode": {
    "name": "ipython",
    "version": 3
   },
   "file_extension": ".py",
   "mimetype": "text/x-python",
   "name": "python",
   "nbconvert_exporter": "python",
   "pygments_lexer": "ipython3",
   "version": "3.12.4"
  }
 },
 "nbformat": 4,
 "nbformat_minor": 5
}
